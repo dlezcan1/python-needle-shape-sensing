{
 "cells": [
  {
   "cell_type": "code",
   "execution_count": 1,
   "id": "4719c400",
   "metadata": {},
   "outputs": [
    {
     "data": {
      "text/plain": [
       "['../needle_shape_sensing',\n",
       " '/home/dlezcan1/dev/git/python-needle-shape-sensing/notebooks',\n",
       " '',\n",
       " '/opt/ros/humble/lib/python3.10/site-packages',\n",
       " '/opt/ros/humble/local/lib/python3.10/dist-packages',\n",
       " '/home/dlezcan1/dev/git/python-needle-shape-sensing',\n",
       " '/usr/lib/python310.zip',\n",
       " '/usr/lib/python3.10',\n",
       " '/usr/lib/python3.10/lib-dynload',\n",
       " '/home/dlezcan1/.local/lib/python3.10/site-packages',\n",
       " '/usr/local/lib/python3.10/dist-packages',\n",
       " '/usr/lib/python3/dist-packages']"
      ]
     },
     "execution_count": 1,
     "metadata": {},
     "output_type": "execute_result"
    }
   ],
   "source": [
    "import sys\n",
    "sys.path = [\"../needle_shape_sensing\", *sys.path]\n",
    "\n",
    "sys.path"
   ]
  },
  {
   "cell_type": "code",
   "execution_count": 2,
   "id": "907d2204",
   "metadata": {},
   "outputs": [],
   "source": [
    "%matplotlib notebook\n",
    "import os\n",
    "import numpy as np\n",
    "import pandas as pd\n",
    "import json\n",
    "\n",
    "import matplotlib.pyplot as plt\n",
    "\n",
    "import needle_shape_sensing as nss # current version of package"
   ]
  },
  {
   "cell_type": "code",
   "execution_count": 3,
   "id": "8177ed17",
   "metadata": {},
   "outputs": [],
   "source": [
    "def plot_3d(shape):\n",
    "    fig, ax = plt.subplots(subplot_kw={\"projection\": \"3d\"})\n",
    "    \n",
    "    ax.plot(shape[:, 0], shape[:, 1], shape[:, 2])\n",
    "    \n",
    "    ax.set_xlabel(\"x\")\n",
    "    ax.set_ylabel(\"y\")\n",
    "    ax.set_zlabel(\"z\")\n",
    "    \n",
    "    return fig, ax\n",
    "\n",
    "# plot_3d\n",
    "\n",
    "def plot_3d_flat(shape):\n",
    "    fig, ax = plt.subplots()\n",
    "    \n",
    "    for i, axis in enumerate([\"x\", \"y\"]):\n",
    "        ax.plot(shape[:, 2], shape[:, i], '*-', label=axis)\n",
    "        \n",
    "    ax.set_xlabel(\"z\")\n",
    "    ax.set_ylabel(\"x/y\")\n",
    "    ax.legend()\n",
    "    \n",
    "    return fig, ax\n",
    "\n",
    "# plot_3d_flat\n",
    "\n",
    "def axisEqual3D( ax ):\n",
    "    \"\"\" taken from online \"\"\"\n",
    "    extents = np.array( [ getattr( ax, 'get_{}lim'.format( dim ) )() for dim in 'xyz' ] )\n",
    "    sz = extents[ :, 1 ] - extents[ :, 0 ]\n",
    "    centers = np.mean( extents, axis=1 )\n",
    "    maxsize = max( abs( sz ) )\n",
    "    r = maxsize / 2\n",
    "    for ctr, dim in zip( centers, 'xyz' ):\n",
    "        getattr( ax, 'set_{}lim'.format( dim ) )( ctr - r, ctr + r )\n",
    "\n",
    "\n",
    "# axisEqual3D"
   ]
  },
  {
   "cell_type": "code",
   "execution_count": 4,
   "id": "b608ab18",
   "metadata": {},
   "outputs": [],
   "source": [
    "from shape_sensing import ShapeSensingFBGNeedle\n",
    "import numerical\n",
    "import intrinsics"
   ]
  },
  {
   "cell_type": "code",
   "execution_count": 5,
   "id": "88c4f191",
   "metadata": {},
   "outputs": [
    {
     "name": "stdout",
     "output_type": "stream",
     "text": [
      "old:\n",
      "Serial Number: 2CH-4AA-0001\n",
      "Needle length (mm): 165.0\n",
      "Diameter (mm): 1.27\n",
      "Bending Moment of Insertia (mm^4): 0.12769820203693033\n",
      "Torsional Moment of Insertia (mm^4): 0.25539640407386066\n",
      "Young's Modulus, Emod (N/mm^2): 200000\n",
      "Torsional Young's Modulus, Gmod (N/mm^2): 77519.37984496124\n",
      "Number of FBG Channels: 2\n",
      "Number of Active Areas: 4\n",
      "Sensor Locations (mm):\n",
      "\t1: 65.0\n",
      "\t2: 100.0\n",
      "\t3: 135.0\n",
      "\t4: 155.0\n",
      "Calibration Matrices:\n",
      "\t65.0: [[-1.389232062371995, 4.788991980135245], [-5.011010120953675, 1.173264147999622]] | weight: 0.396476763225053\n",
      "\t100.0: [[-0.659999818936315, 3.242868912009538], [-2.724487365712445, 1.072489958135295]] | weight: 0.377702305364081\n",
      "\t135.0: [[-3.746215358135378, 3.420561154478782], [-3.851729578776803, 1.101790184901246]] | weight: 0.097712380157397\n",
      "\t155.0: [[-4.603426609513273, 16.621729159502966], [-11.307496807746592, 2.209333032396484]] | weight: 0.12810855125347\n",
      "====================================================================================================\n",
      "new:\n",
      "Serial Number: 2CH-4AA-0001\n",
      "Needle length (mm): 165.0\n",
      "Diameter (mm): 1.27\n",
      "Bending Moment of Insertia (mm^4): 0.12769820203693033\n",
      "Torsional Moment of Insertia (mm^4): 0.25539640407386066\n",
      "Young's Modulus, Emod (N/mm^2): 200000\n",
      "Torsional Young's Modulus, Gmod (N/mm^2): 77519.37984496124\n",
      "Number of FBG Channels: 2\n",
      "Number of Active Areas: 4\n",
      "Sensor Locations (mm):\n",
      "\t1: 65.0\n",
      "\t2: 100.0\n",
      "\t3: 135.0\n",
      "\t4: 155.0\n",
      "Calibration Matrices:\n",
      "\t65.0: [[-1.389232062371995, 4.788991980135245], [-5.011010120953675, 1.173264147999622]] | weight: 0.396476763225053\n",
      "\t100.0: [[-0.659999818936315, 3.242868912009538], [-2.724487365712445, 1.072489958135295]] | weight: 0.377702305364081\n",
      "\t135.0: [[-3.746215358135378, 3.420561154478782], [-3.851729578776803, 1.101790184901246]] | weight: 0.097712380157397\n",
      "\t155.0: [[-4.603426609513273, 16.621729159502966], [-11.307496807746592, 2.209333032396484]] | weight: 0.12810855125347\n"
     ]
    }
   ],
   "source": [
    "fbgparam_file = os.path.join(\"../data\", \"needle_params_2022-10-10_Jig-Calibration_all_weights.json\")\n",
    "\n",
    "ss_fbgneedle_old = nss.shape_sensing.ShapeSensingFBGNeedle.load_json(\n",
    "    fbgparam_file\n",
    ")\n",
    "\n",
    "ss_fbgneedle = ShapeSensingFBGNeedle.load_json(\n",
    "    fbgparam_file\n",
    ")\n",
    "\n",
    "print(\"old:\")\n",
    "print(ss_fbgneedle_old)\n",
    "print(100*\"=\")\n",
    "print(\"new:\")\n",
    "print(ss_fbgneedle)"
   ]
  },
  {
   "cell_type": "code",
   "execution_count": 6,
   "id": "94d35a53",
   "metadata": {},
   "outputs": [
    {
     "data": {
      "text/plain": [
       "array([0., 0., 0.])"
      ]
     },
     "execution_count": 6,
     "metadata": {},
     "output_type": "execute_result"
    }
   ],
   "source": [
    "ss_fbgneedle.insertion_point"
   ]
  },
  {
   "cell_type": "code",
   "execution_count": 7,
   "id": "78ac2349",
   "metadata": {},
   "outputs": [],
   "source": [
    "Rmat = np.tile(np.eye(3), (5, 1,1))"
   ]
  },
  {
   "cell_type": "code",
   "execution_count": 8,
   "id": "eacf4515",
   "metadata": {},
   "outputs": [
    {
     "name": "stdout",
     "output_type": "stream",
     "text": [
      "[[ 0  1  2]\n",
      " [ 3  4  5]\n",
      " [ 6  7  8]\n",
      " [ 9 10 11]\n",
      " [12 13 14]]\n"
     ]
    },
    {
     "data": {
      "text/plain": [
       "(1, 3)"
      ]
     },
     "execution_count": 8,
     "metadata": {},
     "output_type": "execute_result"
    }
   ],
   "source": [
    "x = np.arange(Rmat.shape[0]*3).reshape(Rmat.shape[0],3)\n",
    "print(x)\n",
    "x[np.newaxis, -1].shape"
   ]
  },
  {
   "cell_type": "code",
   "execution_count": 9,
   "id": "e000ccda",
   "metadata": {},
   "outputs": [
    {
     "name": "stdout",
     "output_type": "stream",
     "text": [
      "R2 =\n",
      "[[1 0 0]\n",
      " [0 2 0]\n",
      " [0 0 3]]\n",
      "====================================================================================================\n",
      "[[[1. 0. 0.]\n",
      "  [0. 2. 0.]\n",
      "  [0. 0. 3.]]\n",
      "\n",
      " [[1. 0. 0.]\n",
      "  [0. 2. 0.]\n",
      "  [0. 0. 3.]]\n",
      "\n",
      " [[1. 0. 0.]\n",
      "  [0. 2. 0.]\n",
      "  [0. 0. 3.]]\n",
      "\n",
      " [[1. 0. 0.]\n",
      "  [0. 2. 0.]\n",
      "  [0. 0. 3.]]\n",
      "\n",
      " [[1. 0. 0.]\n",
      "  [0. 2. 0.]\n",
      "  [0. 0. 3.]]]\n"
     ]
    }
   ],
   "source": [
    "R2 = np.diag(np.arange(1, 4))\n",
    "print(\"R2 =\\n\" + str(R2))\n",
    "print(100*\"=\")\n",
    "print(R2[np.newaxis] @ Rmat)"
   ]
  },
  {
   "cell_type": "code",
   "execution_count": 10,
   "id": "f3df8cda",
   "metadata": {},
   "outputs": [],
   "source": [
    "insertion_depth = 125\n",
    "current_curvatures = np.random.randn(2, ss_fbgneedle.num_activeAreas)\n",
    "\n",
    "ss_fbgneedle.ref_wavelengths[:]     = 0\n",
    "ss_fbgneedle_old.ref_wavelengths[:] = 0\n",
    "\n",
    "ss_fbgneedle.current_curvatures     = current_curvatures\n",
    "ss_fbgneedle_old.current_curvatures = ss_fbgneedle.current_curvatures\n",
    "\n",
    "ss_fbgneedle.current_depth     = insertion_depth\n",
    "ss_fbgneedle_old.current_depth = ss_fbgneedle.current_depth"
   ]
  },
  {
   "cell_type": "code",
   "execution_count": 11,
   "id": "755bbabe",
   "metadata": {},
   "outputs": [
    {
     "name": "stdout",
     "output_type": "stream",
     "text": [
      "True True\n"
     ]
    }
   ],
   "source": [
    "ss_fbgneedle.insertion_point = np.array([0, 0, 0])\n",
    "\n",
    "kc     = 0.002\n",
    "w_init = np.array([kc, 0, 0])\n",
    "\n",
    "pmat, Rmat     = ss_fbgneedle.get_needle_shape(kc, w_init)\n",
    "pmat_o, Rmat_o = ss_fbgneedle_old.get_needle_shape(kc, w_init)\n",
    "\n",
    "print(np.allclose(pmat, pmat_o), np.allclose(Rmat, Rmat_o))"
   ]
  },
  {
   "cell_type": "code",
   "execution_count": 12,
   "id": "e82733e4",
   "metadata": {},
   "outputs": [
    {
     "name": "stdout",
     "output_type": "stream",
     "text": [
      "Airdeflection.shape: (101, 3, 3)\n"
     ]
    }
   ],
   "source": [
    "ss_fbgneedle.insertion_point = np.array([0, -10, 50])\n",
    "ss_fbgneedle.current_depth = insertion_depth - ss_fbgneedle.insertion_point[2]\n",
    "\n",
    "pmat, Rmat = ss_fbgneedle.get_needle_shape(kc, w_init)\n",
    "\n",
    "mask_air = pmat[:, 2] < ss_fbgneedle.insertion_point[2]\n",
    "pmat_air = pmat[mask_air]\n",
    "Rmat_air = Rmat[mask_air]"
   ]
  },
  {
   "cell_type": "code",
   "execution_count": null,
   "id": "91cb409a",
   "metadata": {},
   "outputs": [],
   "source": [
    "fig, ax = plot_3d(pmat)\n",
    "ax.plot(\n",
    "    ss_fbgneedle.insertion_point[0],\n",
    "    ss_fbgneedle.insertion_point[1],\n",
    "    ss_fbgneedle.insertion_point[2],\n",
    "    'r*',\n",
    "    label=\"insertion_point\"\n",
    ")\n",
    "axisEqual3D(ax)"
   ]
  },
  {
   "cell_type": "code",
   "execution_count": null,
   "id": "8ecd0c0f",
   "metadata": {},
   "outputs": [],
   "source": [
    "fig, ax = plot_3d_flat(pmat)\n",
    "ax.plot(\n",
    "    ss_fbgneedle.insertion_point[2], ss_fbgneedle.insertion_point[1], 'ro'\n",
    ")\n",
    "ax.plot(\n",
    "    ss_fbgneedle.insertion_point[2], ss_fbgneedle.insertion_point[0], 'ro'\n",
    ")"
   ]
  }
 ],
 "metadata": {
  "kernelspec": {
   "display_name": "Python 3 (ipykernel)",
   "language": "python",
   "name": "python3"
  },
  "language_info": {
   "codemirror_mode": {
    "name": "ipython",
    "version": 3
   },
   "file_extension": ".py",
   "mimetype": "text/x-python",
   "name": "python",
   "nbconvert_exporter": "python",
   "pygments_lexer": "ipython3",
   "version": "3.10.12"
  }
 },
 "nbformat": 4,
 "nbformat_minor": 5
}
